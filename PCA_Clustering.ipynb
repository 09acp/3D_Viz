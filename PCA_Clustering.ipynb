{
 "cells": [
  {
   "cell_type": "markdown",
   "metadata": {},
   "source": [
    "# Processing cleaned data for visualization"
   ]
  },
  {
   "cell_type": "code",
   "execution_count": 1,
   "metadata": {},
   "outputs": [],
   "source": [
    "import pandas as pd \n",
    "import numpy as np \n",
    "import sqlite3 as sql\n",
    "import matplotlib.pyplot as plt\n",
    "import pickle\n",
    "from tqdm import tqdm_notebook\n",
    "\n",
    "# PCA & CLUSTERING\n",
    "from sklearn import metrics\n",
    "from sklearn.cluster import KMeans, AgglomerativeClustering, SpectralClustering\n",
    "from sklearn.decomposition import PCA\n",
    "from sklearn.preprocessing import MinMaxScaler\n",
    "RANDOM_STATE = 17 # Fixed random state for reproductivity "
   ]
  },
  {
   "cell_type": "markdown",
   "metadata": {},
   "source": [
    "## Part 1. \n",
    "_NO NEED TO RUN AGAIN - GO TO PART 2_"
   ]
  },
  {
   "cell_type": "markdown",
   "metadata": {},
   "source": [
    "#### Retrieve data from database\n",
    "- pickle preserve multidimensional compenent unlike SQLite"
   ]
  },
  {
   "cell_type": "code",
   "execution_count": 2,
   "metadata": {},
   "outputs": [],
   "source": [
    "conn = sql.connect(\"data/data.db\")\n",
    "cur = conn.cursor()\n",
    "df = pd.read_sql_query(\"SELECT * FROM stock_index\", conn)\n",
    "conn.close()"
   ]
  },
  {
   "cell_type": "raw",
   "metadata": {},
   "source": [
    "# \" Open pickle file \"\n",
    "# df = pickle.load(open(\"stock_index.pkl\",'rb')) "
   ]
  },
  {
   "cell_type": "code",
   "execution_count": 3,
   "metadata": {},
   "outputs": [
    {
     "data": {
      "text/html": [
       "<div>\n",
       "<style scoped>\n",
       "    .dataframe tbody tr th:only-of-type {\n",
       "        vertical-align: middle;\n",
       "    }\n",
       "\n",
       "    .dataframe tbody tr th {\n",
       "        vertical-align: top;\n",
       "    }\n",
       "\n",
       "    .dataframe thead th {\n",
       "        text-align: right;\n",
       "    }\n",
       "</style>\n",
       "<table border=\"1\" class=\"dataframe\">\n",
       "  <thead>\n",
       "    <tr style=\"text-align: right;\">\n",
       "      <th></th>\n",
       "      <th>Ticker</th>\n",
       "      <th>YQuarter</th>\n",
       "      <th>gsector</th>\n",
       "      <th>X1_REVGH</th>\n",
       "      <th>X2_EPS</th>\n",
       "      <th>X3_ROA</th>\n",
       "      <th>X4_ROE</th>\n",
       "      <th>X5_PE</th>\n",
       "      <th>X6_PS</th>\n",
       "      <th>X7_NPM</th>\n",
       "      <th>...</th>\n",
       "      <th>X13_EM</th>\n",
       "      <th>X14_EVCFO</th>\n",
       "      <th>X15_LTDTA</th>\n",
       "      <th>X16_WCR</th>\n",
       "      <th>X17_DE</th>\n",
       "      <th>X18_QR</th>\n",
       "      <th>X19_DSI</th>\n",
       "      <th>X20_DPO</th>\n",
       "      <th>y_return</th>\n",
       "      <th>Date</th>\n",
       "    </tr>\n",
       "  </thead>\n",
       "  <tbody>\n",
       "    <tr>\n",
       "      <td>0</td>\n",
       "      <td>A</td>\n",
       "      <td>1999Q3</td>\n",
       "      <td>35</td>\n",
       "      <td>0.038308</td>\n",
       "      <td>0.36</td>\n",
       "      <td>0.026733</td>\n",
       "      <td>0.041925</td>\n",
       "      <td>119.270833</td>\n",
       "      <td>7.81804</td>\n",
       "      <td>0.064686</td>\n",
       "      <td>...</td>\n",
       "      <td>-32.860525</td>\n",
       "      <td>127.695785</td>\n",
       "      <td>0.0</td>\n",
       "      <td>2.219496</td>\n",
       "      <td>0.568323</td>\n",
       "      <td>1.130879</td>\n",
       "      <td>632.218004</td>\n",
       "      <td>168.644252</td>\n",
       "      <td>0.932748</td>\n",
       "      <td>1999-07-31 00:00:00</td>\n",
       "    </tr>\n",
       "  </tbody>\n",
       "</table>\n",
       "<p>1 rows × 25 columns</p>\n",
       "</div>"
      ],
      "text/plain": [
       "  Ticker YQuarter  gsector  X1_REVGH  X2_EPS    X3_ROA    X4_ROE       X5_PE  \\\n",
       "0      A   1999Q3       35  0.038308    0.36  0.026733  0.041925  119.270833   \n",
       "\n",
       "     X6_PS    X7_NPM  ...     X13_EM   X14_EVCFO  X15_LTDTA   X16_WCR  \\\n",
       "0  7.81804  0.064686  ... -32.860525  127.695785        0.0  2.219496   \n",
       "\n",
       "     X17_DE    X18_QR     X19_DSI     X20_DPO  y_return                 Date  \n",
       "0  0.568323  1.130879  632.218004  168.644252  0.932748  1999-07-31 00:00:00  \n",
       "\n",
       "[1 rows x 25 columns]"
      ]
     },
     "execution_count": 3,
     "metadata": {},
     "output_type": "execute_result"
    }
   ],
   "source": [
    "df.head(1)"
   ]
  },
  {
   "cell_type": "markdown",
   "metadata": {},
   "source": [
    "#### Scale Data "
   ]
  },
  {
   "cell_type": "code",
   "execution_count": 4,
   "metadata": {},
   "outputs": [
    {
     "data": {
      "text/plain": [
       "(0.0, 1.0000000000000002)"
      ]
     },
     "execution_count": 4,
     "metadata": {},
     "output_type": "execute_result"
    }
   ],
   "source": [
    "# Scale features only \n",
    "scaler = MinMaxScaler(feature_range=[0, 1]) #10 - 100\n",
    "scaled_data = pd.DataFrame(scaler.fit_transform(df.drop(['Date','gsector','Ticker', 'YQuarter'],axis=1)))\n",
    "# Scaled data names \n",
    "scaled_data.columns = df.drop([\"YQuarter\",\"Ticker\" , 'gsector', 'Date'],axis=1).columns\n",
    "scaled_data.min().min(), scaled_data.max().max()"
   ]
  },
  {
   "cell_type": "code",
   "execution_count": 5,
   "metadata": {},
   "outputs": [
    {
     "data": {
      "text/html": [
       "<div>\n",
       "<style scoped>\n",
       "    .dataframe tbody tr th:only-of-type {\n",
       "        vertical-align: middle;\n",
       "    }\n",
       "\n",
       "    .dataframe tbody tr th {\n",
       "        vertical-align: top;\n",
       "    }\n",
       "\n",
       "    .dataframe thead th {\n",
       "        text-align: right;\n",
       "    }\n",
       "</style>\n",
       "<table border=\"1\" class=\"dataframe\">\n",
       "  <thead>\n",
       "    <tr style=\"text-align: right;\">\n",
       "      <th></th>\n",
       "      <th>X1_REVGH</th>\n",
       "      <th>X2_EPS</th>\n",
       "      <th>X3_ROA</th>\n",
       "      <th>X4_ROE</th>\n",
       "      <th>X5_PE</th>\n",
       "      <th>X6_PS</th>\n",
       "      <th>X7_NPM</th>\n",
       "      <th>X8_GPM</th>\n",
       "      <th>X9_OM</th>\n",
       "      <th>X10_PB</th>\n",
       "      <th>...</th>\n",
       "      <th>X12_CR</th>\n",
       "      <th>X13_EM</th>\n",
       "      <th>X14_EVCFO</th>\n",
       "      <th>X15_LTDTA</th>\n",
       "      <th>X16_WCR</th>\n",
       "      <th>X17_DE</th>\n",
       "      <th>X18_QR</th>\n",
       "      <th>X19_DSI</th>\n",
       "      <th>X20_DPO</th>\n",
       "      <th>y_return</th>\n",
       "    </tr>\n",
       "  </thead>\n",
       "  <tbody>\n",
       "    <tr>\n",
       "      <td>0</td>\n",
       "      <td>0.000267</td>\n",
       "      <td>0.251872</td>\n",
       "      <td>0.791643</td>\n",
       "      <td>0.974791</td>\n",
       "      <td>0.515213</td>\n",
       "      <td>0.000012</td>\n",
       "      <td>0.943751</td>\n",
       "      <td>0.978899</td>\n",
       "      <td>0.998973</td>\n",
       "      <td>0.883918</td>\n",
       "      <td>...</td>\n",
       "      <td>0.000036</td>\n",
       "      <td>0.555422</td>\n",
       "      <td>0.870439</td>\n",
       "      <td>0.0</td>\n",
       "      <td>0.018988</td>\n",
       "      <td>0.411435</td>\n",
       "      <td>0.009822</td>\n",
       "      <td>0.092728</td>\n",
       "      <td>0.293428</td>\n",
       "      <td>0.678461</td>\n",
       "    </tr>\n",
       "  </tbody>\n",
       "</table>\n",
       "<p>1 rows × 21 columns</p>\n",
       "</div>"
      ],
      "text/plain": [
       "   X1_REVGH    X2_EPS    X3_ROA    X4_ROE     X5_PE     X6_PS    X7_NPM  \\\n",
       "0  0.000267  0.251872  0.791643  0.974791  0.515213  0.000012  0.943751   \n",
       "\n",
       "     X8_GPM     X9_OM    X10_PB  ...    X12_CR    X13_EM  X14_EVCFO  \\\n",
       "0  0.978899  0.998973  0.883918  ...  0.000036  0.555422   0.870439   \n",
       "\n",
       "   X15_LTDTA   X16_WCR    X17_DE    X18_QR   X19_DSI   X20_DPO  y_return  \n",
       "0        0.0  0.018988  0.411435  0.009822  0.092728  0.293428  0.678461  \n",
       "\n",
       "[1 rows x 21 columns]"
      ]
     },
     "execution_count": 5,
     "metadata": {},
     "output_type": "execute_result"
    }
   ],
   "source": [
    "scaled_data.head(1)"
   ]
  },
  {
   "cell_type": "markdown",
   "metadata": {},
   "source": [
    "#### PCA \n",
    "Choosing number of PCA components from [Medium Blog](https://towardsdatascience.com/an-approach-to-choosing-the-number-of-components-in-a-principal-component-analysis-pca-3b9f3d6e73fe)"
   ]
  },
  {
   "cell_type": "code",
   "execution_count": 9,
   "metadata": {},
   "outputs": [
    {
     "data": {
      "image/png": "[encoded data removed]",
      "text/plain": [
       "<Figure size 1080x504 with 1 Axes>"
      ]
     },
     "metadata": {
      "needs_background": "light"
     },
     "output_type": "display_data"
    }
   ],
   "source": [
    "#Fitting the PCA algorithm with our Data\n",
    "pca = PCA().fit(scaled_data)\n",
    "#Plotting the Cumulative Summation of the Explained Variance\n",
    "plt.figure(figsize = (15,7))\n",
    "plt.plot(np.cumsum(pca.explained_variance_ratio_))\n",
    "plt.xlabel('Number of Components')\n",
    "plt.ylabel('Variance (%)') #for each component\n",
    "plt.title('Pulsar Dataset Explained Variance')\n",
    "plt.show()"
   ]
  },
  {
   "cell_type": "code",
   "execution_count": 10,
   "metadata": {},
   "outputs": [
    {
     "name": "stdout",
     "output_type": "stream",
     "text": [
      "shape of df_pca (79231, 12)\n"
     ]
    },
    {
     "data": {
      "text/html": [
       "<div>\n",
       "<style scoped>\n",
       "    .dataframe tbody tr th:only-of-type {\n",
       "        vertical-align: middle;\n",
       "    }\n",
       "\n",
       "    .dataframe tbody tr th {\n",
       "        vertical-align: top;\n",
       "    }\n",
       "\n",
       "    .dataframe thead th {\n",
       "        text-align: right;\n",
       "    }\n",
       "</style>\n",
       "<table border=\"1\" class=\"dataframe\">\n",
       "  <thead>\n",
       "    <tr style=\"text-align: right;\">\n",
       "      <th></th>\n",
       "      <th>PCA_1</th>\n",
       "      <th>PCA_2</th>\n",
       "      <th>PCA_3</th>\n",
       "      <th>PCA_4</th>\n",
       "      <th>PCA_5</th>\n",
       "      <th>PCA_6</th>\n",
       "      <th>PCA_7</th>\n",
       "      <th>PCA_8</th>\n",
       "      <th>PCA_9</th>\n",
       "      <th>PCA_10</th>\n",
       "      <th>PCA_11</th>\n",
       "      <th>PCA_12</th>\n",
       "    </tr>\n",
       "  </thead>\n",
       "  <tbody>\n",
       "    <tr>\n",
       "      <td>0</td>\n",
       "      <td>-0.085916</td>\n",
       "      <td>-0.005973</td>\n",
       "      <td>-0.08238</td>\n",
       "      <td>0.037696</td>\n",
       "      <td>-0.001543</td>\n",
       "      <td>-0.001425</td>\n",
       "      <td>-0.000367</td>\n",
       "      <td>0.0001</td>\n",
       "      <td>0.000303</td>\n",
       "      <td>0.000051</td>\n",
       "      <td>-0.000362</td>\n",
       "      <td>-0.000199</td>\n",
       "    </tr>\n",
       "  </tbody>\n",
       "</table>\n",
       "</div>"
      ],
      "text/plain": [
       "      PCA_1     PCA_2    PCA_3     PCA_4     PCA_5     PCA_6     PCA_7  \\\n",
       "0 -0.085916 -0.005973 -0.08238  0.037696 -0.001543 -0.001425 -0.000367   \n",
       "\n",
       "    PCA_8     PCA_9    PCA_10    PCA_11    PCA_12  \n",
       "0  0.0001  0.000303  0.000051 -0.000362 -0.000199  "
      ]
     },
     "execution_count": 10,
     "metadata": {},
     "output_type": "execute_result"
    }
   ],
   "source": [
    "# Apply PCA on features\n",
    "pca = PCA(n_components=12) \n",
    "df_pca= pd.DataFrame(pca.fit_transform(scaled_data))\n",
    "# Rename columns \n",
    "df_pca.columns = [\"PCA_\"+str(x+1) for x in range(pca.components_.shape[0])]\n",
    "print (\"shape of df_pca\", df_pca.shape) # sample\n",
    "df_pca.head(1)"
   ]
  },
  {
   "cell_type": "code",
   "execution_count": 11,
   "metadata": {},
   "outputs": [
    {
     "name": "stdout",
     "output_type": "stream",
     "text": [
      "12s principal components required to cover 90% of the variance of the original (scaled) data\n",
      "\n",
      "Amount of explained variance by componenet: \n",
      " 0    0.005048\n",
      "1    0.000683\n",
      "2    0.000461\n",
      "3    0.000448\n",
      "4    0.000156\n",
      "dtype: float64\n",
      "\n",
      " The 3 five principal components explain 87.0% of the dataset's variance.\n"
     ]
    }
   ],
   "source": [
    "print(\"{}s principal components required to cover 90% of the variance of the original (scaled) data\\n\".format(df_pca.shape[1]))\n",
    "print(\"Amount of explained variance by componenet: \\n\",pd.Series(pca.explained_variance_).head())\n",
    "print(\"\\n The 3 five principal components explain {}% of the dataset's variance.\".format(round(pd.Series(pca.explained_variance_ratio_).head(3).sum(),2)*100))"
   ]
  },
  {
   "cell_type": "code",
   "execution_count": 12,
   "metadata": {},
   "outputs": [
    {
     "data": {
      "text/plain": [
       "Text(0.5, 1.0, 'Cumulative explained variance')"
      ]
     },
     "execution_count": 12,
     "metadata": {},
     "output_type": "execute_result"
    },
    {
     "data": {
      "image/png": "[encoded data removed]",
      "text/plain": [
       "<Figure size 432x288 with 1 Axes>"
      ]
     },
     "metadata": {
      "needs_background": "light"
     },
     "output_type": "display_data"
    }
   ],
   "source": [
    "pd.Series(pca.explained_variance_ratio_).cumsum().plot()\n",
    "plt.title(\"Cumulative explained variance\")"
   ]
  },
  {
   "cell_type": "markdown",
   "metadata": {},
   "source": [
    "#### K-Means \n",
    "##### Determining cluster count"
   ]
  },
  {
   "cell_type": "code",
   "execution_count": 13,
   "metadata": {},
   "outputs": [
    {
     "data": {
      "application/vnd.jupyter.widget-view+json": {
       "model_id": "74bce174d8d24d3ea5bf1c33783372cb",
       "version_major": 2,
       "version_minor": 0
      },
      "text/plain": [
       "HBox(children=(IntProgress(value=0, max=14), HTML(value='')))"
      ]
     },
     "metadata": {},
     "output_type": "display_data"
    },
    {
     "name": "stdout",
     "output_type": "stream",
     "text": [
      "\n"
     ]
    }
   ],
   "source": [
    "# Calculating the sum of squared distances from each point \n",
    "# to its assigned center(distortions).\n",
    "inertia = []\n",
    "for k in tqdm_notebook(range(1, 15)): # Just 2 classes, but try up to 15\n",
    "    kmeans = KMeans(n_clusters=k, n_init=100, \n",
    "                    random_state=RANDOM_STATE, n_jobs=1).fit(df_pca)\n",
    "    inertia.append(np.sqrt(kmeans.inertia_))"
   ]
  },
  {
   "cell_type": "markdown",
   "metadata": {},
   "source": [
    "_Although 13 clusters seems to be the ideal number of groups_"
   ]
  },
  {
   "cell_type": "code",
   "execution_count": 14,
   "metadata": {},
   "outputs": [
    {
     "data": {
      "text/plain": [
       "Text(0.5, 1.0, 'The Elbow Method showing the optimal k')"
      ]
     },
     "execution_count": 14,
     "metadata": {},
     "output_type": "execute_result"
    },
    {
     "data": {
      "image/png": "[encoded data removed]",
      "text/plain": [
       "<Figure size 1152x576 with 1 Axes>"
      ]
     },
     "metadata": {
      "needs_background": "light"
     },
     "output_type": "display_data"
    }
   ],
   "source": [
    "# Elbow plot\n",
    "plt.figure(figsize=(16,8))\n",
    "plt.plot(range(1, 15), inertia, marker='s');\n",
    "plt.xlabel('K clusters')\n",
    "plt.ylabel('Distortion')\n",
    "plt.title('The Elbow Method showing the optimal k')"
   ]
  },
  {
   "cell_type": "markdown",
   "metadata": {},
   "source": [
    "_Will simply use 8 groupings_"
   ]
  },
  {
   "cell_type": "code",
   "execution_count": 16,
   "metadata": {},
   "outputs": [
    {
     "data": {
      "text/plain": [
       "KMeans(algorithm='auto', copy_x=True, init='k-means++', max_iter=300,\n",
       "       n_clusters=8, n_init=100, n_jobs=1, precompute_distances='auto',\n",
       "       random_state=17, tol=0.0001, verbose=0)"
      ]
     },
     "execution_count": 16,
     "metadata": {},
     "output_type": "execute_result"
    }
   ],
   "source": [
    "kmeans = KMeans(n_clusters=8, \n",
    "                n_init=100, \n",
    "                random_state=RANDOM_STATE, \n",
    "                n_jobs=1)\n",
    "kmeans.fit(df_pca)\n",
    "#cluster_labels = kmeans.labels_"
   ]
  },
  {
   "cell_type": "code",
   "execution_count": 17,
   "metadata": {
    "scrolled": false
   },
   "outputs": [
    {
     "name": "stdout",
     "output_type": "stream",
     "text": [
      "(79231,)\n"
     ]
    }
   ],
   "source": [
    "print (kmeans.labels_.shape)\n",
    "df_clusters = pd.DataFrame( kmeans.labels_); df_clusters.columns = [\"Cluster\"]"
   ]
  },
  {
   "cell_type": "markdown",
   "metadata": {},
   "source": [
    "#### Concatinate all information into a single DF "
   ]
  },
  {
   "cell_type": "code",
   "execution_count": 11,
   "metadata": {},
   "outputs": [
    {
     "ename": "NameError",
     "evalue": "name 'df_clusters' is not defined",
     "output_type": "error",
     "traceback": [
      "\u001b[1;31m---------------------------------------------------------------------------\u001b[0m",
      "\u001b[1;31mNameError\u001b[0m                                 Traceback (most recent call last)",
      "\u001b[1;32m<ipython-input-11-8161db40e5b9>\u001b[0m in \u001b[0;36m<module>\u001b[1;34m\u001b[0m\n\u001b[0;32m      1\u001b[0m df2 = pd.concat( [ df[[\"YQuarter\",\"Ticker\", 'gsector', 'Date']], # Categorical / Date\n\u001b[0;32m      2\u001b[0m                    \u001b[0mscaled_data\u001b[0m\u001b[1;33m,\u001b[0m \u001b[1;31m# Independent Features\u001b[0m\u001b[1;33m\u001b[0m\u001b[1;33m\u001b[0m\u001b[0m\n\u001b[1;32m----> 3\u001b[1;33m                    \u001b[0mdf_clusters\u001b[0m\u001b[1;33m,\u001b[0m \u001b[1;31m# Categorical\u001b[0m\u001b[1;33m\u001b[0m\u001b[1;33m\u001b[0m\u001b[0m\n\u001b[0m\u001b[0;32m      4\u001b[0m                    df_pca], axis=1) # Independent Features - Factors  \n\u001b[0;32m      5\u001b[0m \u001b[1;33m\u001b[0m\u001b[0m\n",
      "\u001b[1;31mNameError\u001b[0m: name 'df_clusters' is not defined"
     ]
    }
   ],
   "source": [
    "df2 = pd.concat( [ df[[\"YQuarter\",\"Ticker\", 'gsector', 'Date']], # Categorical / Date\n",
    "                   scaled_data, # Independent Features\n",
    "                   df_clusters, # Categorical \n",
    "                   df_pca], axis=1) # Independent Features - Factors  \n",
    "\n",
    "# Rename features into categorical\n",
    "df2['gsector'] = [\"Sector_\"+str(x) for x in df2['gsector'].values]\n",
    "#f2['Cluster'] = [\"Cluster_\"+str(x) for x in df2['Cluster'].values]\n",
    "\n",
    "df2.head(1)"
   ]
  },
  {
   "cell_type": "code",
   "execution_count": 63,
   "metadata": {},
   "outputs": [
    {
     "data": {
      "image/png": "[encoded data removed]",
      "text/plain": [
       "<Figure size 630x360 with 2 Axes>"
      ]
     },
     "metadata": {
      "needs_background": "light"
     },
     "output_type": "display_data"
    }
   ],
   "source": [
    "# FEATURE VARIANCE CONTRIBUTION TO PCA COMPONENTS\n",
    "plt.matshow(pca.components_,cmap='inferno')  #'viridis', 'plasma', 'inferno', 'magma', 'cividis'\n",
    "plt.yticks(range(len(df_pca.columns)),\n",
    "            df_pca.columns,fontsize=10)\n",
    "plt.colorbar()\n",
    "plt.xticks(range(len(df.drop([\"YQuarter\",\"Ticker\" , 'gsector', 'Date'],axis=1).columns)),\n",
    "                     df.drop([\"YQuarter\",\"Ticker\" ,'gsector', 'Date'],axis=1).columns,rotation=65,ha='left')\n",
    "# plt.figure(figsize=(18,25))\n",
    "plt.show()# "
   ]
  },
  {
   "cell_type": "markdown",
   "metadata": {},
   "source": [
    "#### Save to Database"
   ]
  },
  {
   "cell_type": "code",
   "execution_count": 74,
   "metadata": {},
   "outputs": [],
   "source": [
    "conn = sql.connect(\"data/data.db\")\n",
    "cur = conn.cursor()\n",
    "df2.to_sql(\"clean_data\",conn,index=False,if_exists='replace')\n",
    "conn.close()"
   ]
  },
  {
   "cell_type": "code",
   "execution_count": 65,
   "metadata": {},
   "outputs": [],
   "source": [
    "# SAVE PCA RESULTS \n",
    "pca_dump = [df_pca, pca.components_, pca.explained_variance_, pca.explained_variance_ratio_ ]\n",
    "with open(\"data/pca.pkl\", \"wb\") as f:\n",
    "    pickle.dump(pca_dump, f)"
   ]
  },
  {
   "cell_type": "markdown",
   "metadata": {},
   "source": [
    "**INDIVISUAL TABLES MAKE FOR FASTER RESULTS**"
   ]
  },
  {
   "cell_type": "code",
   "execution_count": null,
   "metadata": {},
   "outputs": [],
   "source": [
    "conn = sql.connect(\"data/data.db\")\n",
    "cur = conn.cursor()\n",
    "# PCA\n",
    "np.exp(df.select_dtypes(include=['float64']).iloc[:,-12:]).to_sql(\"pca\",conn,index=False,if_exists='replace')\n",
    "# Features\n",
    "df.select_dtypes(include=['float64']).iloc[:, :20].to_sql(\"features\",conn,index=False,if_exists='replace')\n",
    "# Clusters\n",
    "df[['Cluster']].to_sql(\"clusters\",conn,index=False,if_exists='replace')\n",
    "# Index \n",
    "df.iloc[:,:4].to_sql(\"other\",conn,index=False,if_exists='replace')\n",
    "conn.close()"
   ]
  },
  {
   "cell_type": "markdown",
   "metadata": {},
   "source": [
    "#### Upsample data by year "
   ]
  },
  {
   "cell_type": "raw",
   "metadata": {},
   "source": [
    "pd.DatetimeIndex(df2['Date'],freq=year) #DatetimeIndex(['1999-07-31', '1999-10-31'\n",
    "# https://pandas.pydata.org/pandas-docs/stable/reference/api/pandas.DataFrame.resample.html\n"
   ]
  },
  {
   "cell_type": "markdown",
   "metadata": {},
   "source": [
    "================================================  END   ============================================================="
   ]
  }
 ],
 "metadata": {
  "kernelspec": {
   "display_name": "Python 3",
   "language": "python",
   "name": "python3"
  },
  "language_info": {
   "codemirror_mode": {
    "name": "ipython",
    "version": 3
   },
   "file_extension": ".py",
   "mimetype": "text/x-python",
   "name": "python",
   "nbconvert_exporter": "python",
   "pygments_lexer": "ipython3",
   "version": "3.7.4"
  }
 },
 "nbformat": 4,
 "nbformat_minor": 2
}
