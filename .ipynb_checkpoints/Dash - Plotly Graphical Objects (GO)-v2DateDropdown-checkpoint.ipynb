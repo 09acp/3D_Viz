{
 "cells": [
  {
   "cell_type": "markdown",
   "metadata": {},
   "source": [
    "# VISUALISATION USING DASH (go)"
   ]
  },
  {
   "cell_type": "code",
   "execution_count": 1,
   "metadata": {},
   "outputs": [],
   "source": [
    "import pandas as pd \n",
    "import numpy as np \n",
    "import sqlite3 as sql\n",
    "import pickle\n",
    "\n",
    "# Plotly\n",
    "import plotly.graph_objects as go\n",
    "\n",
    "# Web app\n",
    "import dash\n",
    "import dash_core_components as dcc\n",
    "import dash_html_components as html\n",
    "from dash.dependencies import Input, Output, State\n",
    "\n",
    "database_name = \"data/data.db\""
   ]
  },
  {
   "cell_type": "code",
   "execution_count": 2,
   "metadata": {},
   "outputs": [
    {
     "data": {
      "text/html": [
       "<div>\n",
       "<style scoped>\n",
       "    .dataframe tbody tr th:only-of-type {\n",
       "        vertical-align: middle;\n",
       "    }\n",
       "\n",
       "    .dataframe tbody tr th {\n",
       "        vertical-align: top;\n",
       "    }\n",
       "\n",
       "    .dataframe thead th {\n",
       "        text-align: right;\n",
       "    }\n",
       "</style>\n",
       "<table border=\"1\" class=\"dataframe\">\n",
       "  <thead>\n",
       "    <tr style=\"text-align: right;\">\n",
       "      <th></th>\n",
       "      <th>YQuarter</th>\n",
       "      <th>Ticker</th>\n",
       "      <th>gsector</th>\n",
       "      <th>Date</th>\n",
       "      <th>X1_REVGH</th>\n",
       "      <th>X2_EPS</th>\n",
       "      <th>X3_ROA</th>\n",
       "      <th>X4_ROE</th>\n",
       "      <th>X5_PE</th>\n",
       "      <th>X6_PS</th>\n",
       "      <th>...</th>\n",
       "      <th>PCA_3</th>\n",
       "      <th>PCA_4</th>\n",
       "      <th>PCA_5</th>\n",
       "      <th>PCA_6</th>\n",
       "      <th>PCA_7</th>\n",
       "      <th>PCA_8</th>\n",
       "      <th>PCA_9</th>\n",
       "      <th>PCA_10</th>\n",
       "      <th>PCA_11</th>\n",
       "      <th>PCA_12</th>\n",
       "    </tr>\n",
       "  </thead>\n",
       "  <tbody>\n",
       "    <tr>\n",
       "      <td>0</td>\n",
       "      <td>1999Q3</td>\n",
       "      <td>A</td>\n",
       "      <td>Sector_35</td>\n",
       "      <td>1999-07-31 00:00:00</td>\n",
       "      <td>0.000267</td>\n",
       "      <td>0.251872</td>\n",
       "      <td>0.791643</td>\n",
       "      <td>0.974791</td>\n",
       "      <td>0.515213</td>\n",
       "      <td>0.000012</td>\n",
       "      <td>...</td>\n",
       "      <td>-0.08238</td>\n",
       "      <td>0.037696</td>\n",
       "      <td>-0.001543</td>\n",
       "      <td>-0.001425</td>\n",
       "      <td>-0.000367</td>\n",
       "      <td>0.0001</td>\n",
       "      <td>0.000303</td>\n",
       "      <td>0.000051</td>\n",
       "      <td>-0.000362</td>\n",
       "      <td>-0.000199</td>\n",
       "    </tr>\n",
       "  </tbody>\n",
       "</table>\n",
       "<p>1 rows × 38 columns</p>\n",
       "</div>"
      ],
      "text/plain": [
       "  YQuarter Ticker    gsector                 Date  X1_REVGH    X2_EPS  \\\n",
       "0   1999Q3      A  Sector_35  1999-07-31 00:00:00  0.000267  0.251872   \n",
       "\n",
       "     X3_ROA    X4_ROE     X5_PE     X6_PS  ...    PCA_3     PCA_4     PCA_5  \\\n",
       "0  0.791643  0.974791  0.515213  0.000012  ... -0.08238  0.037696 -0.001543   \n",
       "\n",
       "      PCA_6     PCA_7   PCA_8     PCA_9    PCA_10    PCA_11    PCA_12  \n",
       "0 -0.001425 -0.000367  0.0001  0.000303  0.000051 -0.000362 -0.000199  \n",
       "\n",
       "[1 rows x 38 columns]"
      ]
     },
     "execution_count": 2,
     "metadata": {},
     "output_type": "execute_result"
    }
   ],
   "source": [
    "conn = sql.connect(database_name)\n",
    "cur = conn.cursor()\n",
    "df = pd.read_sql_query(\"SELECT * FROM clean_data\", conn)\n",
    "conn.close()\n",
    "\n",
    "df.head(1)"
   ]
  },
  {
   "cell_type": "code",
   "execution_count": null,
   "metadata": {},
   "outputs": [],
   "source": [
    "# conn = sql.connect(\"data/data.db\")\n",
    "# cur = conn.cursor()\n",
    "# # PCA\n",
    "# np.exp(df.select_dtypes(include=['float64']).iloc[:,-12:]).to_sql(\"pca\",conn,index=False,if_exists='replace')\n",
    "# # Features\n",
    "# df.select_dtypes(include=['float64']).iloc[:, :20].to_sql(\"features\",conn,index=False,if_exists='replace')\n",
    "# # Clusters\n",
    "# df[['Cluster']].to_sql(\"clusters\",conn,index=False,if_exists='replace')\n",
    "# # Index \n",
    "# df.iloc[:,:4].to_sql(\"other\",conn,index=False,if_exists='replace')\n",
    "# conn.close()"
   ]
  },
  {
   "cell_type": "markdown",
   "metadata": {},
   "source": [
    "## DASH APP 3 \n",
    "- build app 2 plots with plotly go and callbacks\n",
    "- added customization (Because needs an input, but selections dont work)\n",
    "\n",
    "- [Great 3D scatter examples (go)](https://plot.ly/python/3d-scatter-plots/)\n",
    "- [Soft cluster clouds](https://plot.ly/python/v3/3d-point-clustering/)\n",
    "- [Dash app gallery](https://dash-gallery.plotly.host/Portal/))\n",
    "- [My Example](https://github.com/09acp/Stock-Dashboard-Momentum-Factor-/blob/master/app.py)"
   ]
  },
  {
   "cell_type": "code",
   "execution_count": null,
   "metadata": {},
   "outputs": [],
   "source": [
    "#df.head(1)\n",
    "# df.Cluster.value_counts()\n",
    "# k = np.exp(df.select_dtypes(include=['float64']).iloc[:,-12:])\n",
    "# k.head()"
   ]
  },
  {
   "cell_type": "code",
   "execution_count": 6,
   "metadata": {},
   "outputs": [],
   "source": [
    "# DEFINE HTML TEMPLATE\n",
    "app = dash.Dash() # Boostrap CSS.\n",
    "app.css.append_css({'external_url': 'https://codepen.io/amyoshino/pen/jzXypZ.css'}) \n",
    "\n",
    "app.layout = html.Div([\n",
    "        \n",
    "    dcc.Tabs(id=\"tabs\", children=[  # ALL TABS START\n",
    "\n",
    "        # TAB 1. 3D Scatter Plot: PCA & Clustering\n",
    "        dcc.Tab(label= '3D PCA & Clustering', children=[\n",
    "            html.Div([\n",
    "                html.H1(\" Three Component Scatter Plot \", style={'textAlign': 'center'}),\n",
    "                \n",
    "                #1\n",
    "                dcc.DatePickerRange(id = \"date_1\",\n",
    "                                    min_date_allowed=df['Date'].min(),\n",
    "                                    max_date_allowed=df['Date'].max(),\n",
    "                                    start_date=df['Date'].min(),\n",
    "                                    end_date=df['Date'].max()      ),\n",
    "                #2\n",
    "                html.Button(id='ticker_1', \n",
    "                            n_clicks = 0,\n",
    "                            children = \"Submit\"),\n",
    "                #3\n",
    "                dcc.Graph(id = \"scatter_1\"),\n",
    "                        ]),\n",
    "        ]),  # END TAB 1\n",
    "\n",
    "   ]), # ALL TABS END  \n",
    "], className=\"container\")\n",
    "\n",
    "@app.callback(Output('scatter_1', 'figure'),            \n",
    "              [Input('ticker_1', 'n_clicks')], #ACTIVATION 2 \n",
    "              [State('date_1', 'start_date'), \n",
    "               State('date_1', 'end_date')])\n",
    "\n",
    "def scatter_3D ( n_clicks, start_date, end_date ):\n",
    "    trace0 = go.Scatter3d( \n",
    "                         x = df[\"PCA_1\"],   # Exponential PCA\n",
    "                         y = df[\"PCA_2\"],\n",
    "                         z = df[\"PCA_3\"],  #)\n",
    "                         mode = \"markers\",\n",
    "                         marker = dict(size= (np.exp(df[\"y_return\"])*10),   # SCALE FIX\n",
    "                                        color=df[\"Cluster\"],\n",
    "                                        colorscale = \"Portland\",\n",
    "                                        showscale = False,   )  )\n",
    "    data = [ trace0 ]\n",
    "    layout = {\"title\":\"3D PCA Scatter Plot\",\n",
    "              \"xaxis\": {\"title\":\"PCA 1\"},\n",
    "              \"yaxis\": {\"title\":\"PCA 2\"},\n",
    "              \"zaxis\": {\"title\":\"PCA 3\"},}\n",
    "             \n",
    "    fig = {\"data\":data,\n",
    "           \"layout\":layout}\n",
    "    \n",
    "    #return tools.create_plot(fig)\n",
    "    fig.update_layout(margin=dict(l=0, r=0, b=0, t=0))\n",
    "    return fig\n",
    "\n"
   ]
  },
  {
   "cell_type": "code",
   "execution_count": 7,
   "metadata": {},
   "outputs": [
    {
     "name": "stdout",
     "output_type": "stream",
     "text": [
      " * Serving Flask app \"__main__\" (lazy loading)\n",
      " * Environment: production\n",
      "   WARNING: This is a development server. Do not use it in a production deployment.\n",
      "   Use a production WSGI server instead.\n",
      " * Debug mode: off\n"
     ]
    },
    {
     "name": "stderr",
     "output_type": "stream",
     "text": [
      " * Running on http://127.0.0.1:8050/ (Press CTRL+C to quit)\n",
      "127.0.0.1 - - [21/Jan/2020 08:49:49] \"GET / HTTP/1.1\" 200 -\n",
      "127.0.0.1 - - [21/Jan/2020 08:49:50] \"GET /_dash-layout HTTP/1.1\" 200 -\n",
      "127.0.0.1 - - [21/Jan/2020 08:49:50] \"GET /_dash-dependencies HTTP/1.1\" 200 -\n",
      "127.0.0.1 - - [21/Jan/2020 08:49:56] \"POST /_dash-update-component HTTP/1.1\" 200 -\n"
     ]
    }
   ],
   "source": [
    "if __name__ == '__main__':\n",
    "    app.run_server()"
   ]
  },
  {
   "cell_type": "markdown",
   "metadata": {},
   "source": [
    "## DASH APP 4 \n",
    "User Customization features \n",
    "- [Plotly components](https://plot.ly/python/reference/#mesh3d)\n",
    "- [ ] Soft clusters. [Examples](https://plot.ly/python/3d-mesh/)\n",
    "- [ ] Years slider\n",
    "- [ ] Quartile Dropdown\n",
    "\n",
    "##### Frequent queries make it crash"
   ]
  },
  {
   "cell_type": "raw",
   "metadata": {},
   "source": [
    "    trace1 = go.Scatter3d(x = pd.read_sql('SELECT PCA_1 FROM pca;',conn).iloc[:,0],   # Exponential PCA\n",
    "                          y = pd.read_sql('SELECT PCA_2 FROM pca;',conn).iloc[:,0],\n",
    "                          z = pd.read_sql('SELECT PCA_3 FROM pca;',conn).iloc[:,0],  #)\n",
    "                          mode = \"markers\",\n",
    "                          marker = dict(size= np.exp(pd.read_sql('SELECT y_return FROM clean_Data;',conn).iloc[:,0]*10),   # SCALE FIX\n",
    "                                        color= pd.read_sql('SELECT y_return FROM clean_Data;',conn).iloc[:,0],  # THIS CAN BE DIFFERENT\n",
    "                                        colorscale = \"Portland\",\n",
    "                                        showscale = False,   )  )"
   ]
  },
  {
   "cell_type": "code",
   "execution_count": null,
   "metadata": {},
   "outputs": [],
   "source": [
    "\n",
    "\" MESH SUBPLOT DOESNT WORK\"\n",
    "#     trace0 = go.Mesh3d(x = df[\"PCA_1\"],   # Exponential PCA\n",
    "#                        y = df[\"PCA_2\"],\n",
    "#                        z = df[\"PCA_3\"],  #)\n",
    "#                        alphahull=7,\n",
    "#                        opacity=0.1,\n",
    "#                        color='cyan')\n",
    "    \n",
    "#     trace1 = go.Scatter3d(x = df[\"PCA_1\"],   # Exponential PCA\n",
    "#                           y = df[\"PCA_2\"],\n",
    "#                           z = df[\"PCA_3\"],  #)\n",
    "#                           mode = \"markers\",\n",
    "#                           marker = dict(size= (np.exp(df[\"y_return\"])*10),   # SCALE FIX\n",
    "#                                         color=df[\"y_return\"],  # THIS CAN BE DIFFERENT\n",
    "#                                         colorscale = \"Portland\",\n",
    "#                                         showscale = False,   )  )"
   ]
  },
  {
   "cell_type": "code",
   "execution_count": 94,
   "metadata": {},
   "outputs": [],
   "source": [
    "\n",
    "\n",
    "quarter_options = [{'label': i, 'value': i} for i in list(df[\"YQuarter\"].unique())]\n",
    "\n",
    "# DEFINE HTML TEMPLATE\n",
    "app = dash.Dash() # Boostrap CSS.\n",
    "app.css.append_css({'external_url': 'https://codepen.io/amyoshino/pen/jzXypZ.css'}) \n",
    "\n",
    "app.layout = html.Div([\n",
    "        \n",
    "    dcc.Tabs(id=\"tabs\", children=[  # ALL TABS START\n",
    "\n",
    "        # TAB 1. 3D Scatter Plot: PCA & Clustering\n",
    "        dcc.Tab(label= '3D PCA & Clustering', children=[\n",
    "            html.Div([\n",
    "                html.H1(\" Three Component Scatter Plot \", style={'textAlign': 'center'}),\n",
    "                \n",
    "                #1\n",
    "                dcc.DatePickerRange(id = \"date_1\",\n",
    "                                    min_date_allowed=df['Date'].min(),\n",
    "                                    max_date_allowed=df['Date'].max(),\n",
    "                                    start_date=df['Date'].min(),\n",
    "                                    end_date=df['Date'].max()      ),\n",
    "                #2\n",
    "                html.Button(id='ticker_1', \n",
    "                            n_clicks = 0,\n",
    "                            children = \"Submit\"),\n",
    "                #3\n",
    "                dcc.Dropdown(id='quarter_1',\n",
    "                             options= quarter_options, # df[\"YQuarter\"].tolist(), #df[\"YQuarter\"],\n",
    "                             multi=True,\n",
    "                             value=None,style={\"display\": \"block\",\"margin-left\": \"auto\",\"margin-right\": \"auto\",\"width\": \"60%\"}\n",
    "                             ),                \n",
    "                #4\n",
    "                dcc.Graph(id = \"scatter_1\"),\n",
    "                        ]),\n",
    "        ]),  # END TAB 1\n",
    "\n",
    "   ]), # ALL TABS END  \n",
    "], className=\"container\")\n",
    "\n"
   ]
  },
  {
   "cell_type": "code",
   "execution_count": 95,
   "metadata": {},
   "outputs": [],
   "source": [
    "@app.callback(Output('scatter_1', 'figure'),            \n",
    "              [Input('ticker_1', 'n_clicks'),\n",
    "               Input('quarter_1','value'),    ], #ACTIVATION 2 \n",
    "              [State('date_1', 'start_date'), \n",
    "               State('date_1', 'end_date')])\n",
    "\n",
    "def scatter_3D ( n_clicks, quarter_range, start_date, end_date ):  # FIX\n",
    "    # Call data from SQL db\n",
    "    \n",
    "    \n",
    "    conn = sql.connect(database_name)\n",
    "    cur = conn.cursor()\n",
    "    #df = pd.read_sql_query(\"SELECT * FROM clean_data\", conn)\n",
    "    data = pd.read_sql_query(\"SELECT * FROM clean_data WHERE Date >= '{}' AND Date <= '{}'\"\n",
    "                           .format(start_date,end_date), conn)\n",
    "    conn.close()    \n",
    "    \n",
    "    #for quarter in quarter_range:\n",
    "    \n",
    "    \n",
    "    \n",
    "\n",
    "    \n",
    "    trace1 = go.Scatter3d(x = data[\"PCA_1\"],   # Exponential PCA\n",
    "                          y = data[\"PCA_2\"],\n",
    "                          z = data[\"PCA_3\"],  #)\n",
    "                          mode = \"markers+text\",\n",
    "                          marker = dict(size= np.exp(data[\"y_return\"])*10,   # SCALE FIX\n",
    "                                        color= data[\"y_return\"],  # THIS CAN BE DIFFERENT\n",
    "                                        colorscale = \"Portland\",\n",
    "                                        showscale = False,   )  )\n",
    "\n",
    "    conn.close() # Close DB\n",
    "    \n",
    "    data = [ trace1 ]\n",
    "    layout = {\"title\":\"3D PCA Scatter Plot\",\n",
    "              \"xaxis\": {\"title\":\"PCA 1\"},\n",
    "              \"yaxis\": {\"title\":\"PCA 2\"},\n",
    "              \"zaxis\": {\"title\":\"PCA 3\"},}\n",
    "             \n",
    "    fig = {\"data\":data,\n",
    "           \"layout\":layout}\n",
    "    \n",
    "    return fig\n",
    "\n"
   ]
  },
  {
   "cell_type": "code",
   "execution_count": 96,
   "metadata": {},
   "outputs": [
    {
     "name": "stdout",
     "output_type": "stream",
     "text": [
      " * Serving Flask app \"__main__\" (lazy loading)\n",
      " * Environment: production\n",
      "   WARNING: This is a development server. Do not use it in a production deployment.\n",
      "   Use a production WSGI server instead.\n",
      " * Debug mode: off\n"
     ]
    },
    {
     "name": "stderr",
     "output_type": "stream",
     "text": [
      " * Running on http://127.0.0.1:8050/ (Press CTRL+C to quit)\n",
      "C:\\Users\\09ale\\Anaconda3\\lib\\site-packages\\dash\\resources.py:75: UserWarning:\n",
      "\n",
      "You have set your config to `serve_locally=True` but A local version of https://codepen.io/amyoshino/pen/jzXypZ.css is not available.\n",
      "If you added this file with `app.scripts.append_script` or `app.css.append_css`, use `external_scripts` or `external_stylesheets` instead.\n",
      "See https://dash.plot.ly/external-resources\n",
      "\n",
      "127.0.0.1 - - [21/Jan/2020 09:52:11] \"GET / HTTP/1.1\" 200 -\n",
      "127.0.0.1 - - [21/Jan/2020 09:52:13] \"GET /_dash-dependencies HTTP/1.1\" 200 -\n",
      "127.0.0.1 - - [21/Jan/2020 09:52:13] \"GET /_dash-layout HTTP/1.1\" 200 -\n",
      "127.0.0.1 - - [21/Jan/2020 09:52:27] \"POST /_dash-update-component HTTP/1.1\" 200 -\n",
      "127.0.0.1 - - [21/Jan/2020 09:53:30] \"POST /_dash-update-component HTTP/1.1\" 200 -\n",
      "127.0.0.1 - - [21/Jan/2020 09:54:01] \"POST /_dash-update-component HTTP/1.1\" 200 -\n",
      "127.0.0.1 - - [21/Jan/2020 09:54:45] \"POST /_dash-update-component HTTP/1.1\" 200 -\n",
      "127.0.0.1 - - [21/Jan/2020 09:57:05] \"POST /_dash-update-component HTTP/1.1\" 200 -\n",
      "127.0.0.1 - - [21/Jan/2020 10:05:18] \"POST /_dash-update-component HTTP/1.1\" 200 -\n",
      "127.0.0.1 - - [21/Jan/2020 10:05:21] \"POST /_dash-update-component HTTP/1.1\" 200 -\n",
      "127.0.0.1 - - [21/Jan/2020 10:05:57] \"POST /_dash-update-component HTTP/1.1\" 200 -\n"
     ]
    }
   ],
   "source": [
    "if __name__ == '__main__':\n",
    "    app.run_server()"
   ]
  },
  {
   "cell_type": "markdown",
   "metadata": {},
   "source": [
    "###################################################################"
   ]
  },
  {
   "cell_type": "markdown",
   "metadata": {},
   "source": [
    "mode\n",
    "surfacecolor\n",
    "text \n",
    "textposition\n",
    "hovertext\n",
    "meta\n",
    "\n",
    "AXIS\n",
    "bordercolor\n",
    "borderwidth\n",
    "\n"
   ]
  },
  {
   "cell_type": "code",
   "execution_count": null,
   "metadata": {},
   "outputs": [],
   "source": [
    "options_factors = [{'label': i, 'value': i} for i in list(df_factor_returns.columns)]"
   ]
  },
  {
   "cell_type": "code",
   "execution_count": null,
   "metadata": {},
   "outputs": [],
   "source": []
  },
  {
   "cell_type": "code",
   "execution_count": null,
   "metadata": {},
   "outputs": [],
   "source": []
  },
  {
   "cell_type": "code",
   "execution_count": null,
   "metadata": {},
   "outputs": [],
   "source": []
  }
 ],
 "metadata": {
  "kernelspec": {
   "display_name": "Python 3",
   "language": "python",
   "name": "python3"
  },
  "language_info": {
   "codemirror_mode": {
    "name": "ipython",
    "version": 3
   },
   "file_extension": ".py",
   "mimetype": "text/x-python",
   "name": "python",
   "nbconvert_exporter": "python",
   "pygments_lexer": "ipython3",
   "version": "3.7.4"
  }
 },
 "nbformat": 4,
 "nbformat_minor": 2
}
